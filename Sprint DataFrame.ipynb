{
 "cells": [
  {
   "cell_type": "code",
   "execution_count": 10,
   "metadata": {},
   "outputs": [],
   "source": [
    "import pandas as pd\n",
    "\n",
    "products = {'Chips':['Simba', 'Lays',''],\n",
    "            'Cooldrinks':['Coke', 'Fanta',''],\n",
    "            'Chocolates':['Cadbury', 'Tex',''],\n",
    "            'Pies':['Pepper Steak', 'Chicken',''],\n",
    "            'Fruit':['Pear', 'Apple','Orange'],\n",
    "            'Cupcakes':['vanilla', 'chocolate',''],\n",
    "            'Veggies':['spinach', 'cabbage','']}\n",
    "\n",
    "\n",
    "dframe = pd.DataFrame(data = products, index=[1,2,3])\n",
    "\n",
    "\n",
    "\n"
   ]
  },
  {
   "cell_type": "code",
   "execution_count": null,
   "metadata": {},
   "outputs": [],
   "source": []
  }
 ],
 "metadata": {
  "kernelspec": {
   "display_name": "Python 3",
   "language": "python",
   "name": "python3"
  },
  "language_info": {
   "codemirror_mode": {
    "name": "ipython",
    "version": 3
   },
   "file_extension": ".py",
   "mimetype": "text/x-python",
   "name": "python",
   "nbconvert_exporter": "python",
   "pygments_lexer": "ipython3",
   "version": "3.7.6"
  }
 },
 "nbformat": 4,
 "nbformat_minor": 4
}
